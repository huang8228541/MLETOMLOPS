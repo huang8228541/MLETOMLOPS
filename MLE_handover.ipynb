{
 "cells": [
  {
   "cell_type": "markdown",
   "id": "ebf5bd0b",
   "metadata": {},
   "source": [
    "# MLE Handover\n",
    "\n",
    "MLE handover this Notebook as a sample on how to run the model.\n",
    "\n",
    "MLOps is expected to wrap the model into a HTTP server, and let it runable in a Docker enviroment, let the service run 24x7, and able to upgrade the model in the future."
   ]
  },
  {
   "cell_type": "code",
   "execution_count": 2,
   "id": "8b336b12",
   "metadata": {},
   "outputs": [
    {
     "name": "stdout",
     "output_type": "stream",
     "text": [
      "[4.0, 6.0] 9.715897560119629\n"
     ]
    }
   ],
   "source": [
    "import torch\n",
    "import torch.nn as nn\n",
    "\n",
    "class SimpleModel(nn.Module):\n",
    "    def __init__(self):\n",
    "        super(SimpleModel, self).__init__()\n",
    "        self.fc = nn.Linear(2, 1)\n",
    "\n",
    "    def forward(self, x):\n",
    "        return self.fc(x)\n",
    "model = SimpleModel()\n",
    "model.load_state_dict(torch.load(\"models/model.pth\"))\n",
    "\n",
    "inp = torch.tensor([4.0, 6.0])\n",
    "output = model(inp)\n",
    "print(inp.tolist(), output.item())"
   ]
  },
  {
   "cell_type": "code",
   "execution_count": null,
   "id": "b119da05",
   "metadata": {},
   "outputs": [],
   "source": []
  }
 ],
 "metadata": {
  "kernelspec": {
   "display_name": "Python 3",
   "language": "python",
   "name": "python3"
  },
  "language_info": {
   "codemirror_mode": {
    "name": "ipython",
    "version": 3
   },
   "file_extension": ".py",
   "mimetype": "text/x-python",
   "name": "python",
   "nbconvert_exporter": "python",
   "pygments_lexer": "ipython3",
   "version": "3.9.13"
  }
 },
 "nbformat": 4,
 "nbformat_minor": 5
}
